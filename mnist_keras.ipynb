{
 "cells": [
  {
   "cell_type": "code",
   "execution_count": 1,
   "metadata": {},
   "outputs": [
    {
     "name": "stderr",
     "output_type": "stream",
     "text": [
      "Using Theano backend.\n"
     ]
    }
   ],
   "source": [
    "'''Trains a simple convnet on the MNIST dataset for ONLY digits 3 and 8.\n",
    "Gets to 98.25% test accuracy after 12 epochs\n",
    "(there is still a lot of margin for parameter tuning).\n",
    "4 seconds per epoch on a 2 GHz Intel Core i5.\n",
    "'''\n",
    "#imports\n",
    "from __future__ import print_function\n",
    "import keras\n",
    "from keras.datasets import mnist\n",
    "from keras.models import Sequential\n",
    "from keras.layers import Dense, Dropout, Flatten\n",
    "from keras.layers import Conv2D, MaxPooling2D\n",
    "from keras import backend as K\n",
    "import numpy as np\n",
    "from sklearn.model_selection import GridSearchCV, RandomizedSearchCV\n",
    "from keras.wrappers.scikit_learn import KerasClassifier\n",
    "from keras import optimizers\n",
    "from keras.constraints import maxnorm\n",
    "from keras.optimizers import Nadam\n",
    "import theano\n",
    "import matplotlib \n",
    "import matplotlib.pyplot as plt\n",
    "%matplotlib inline"
   ]
  },
  {
   "cell_type": "markdown",
   "metadata": {},
   "source": [
    "## Load and preprocess data"
   ]
  },
  {
   "cell_type": "code",
   "execution_count": 2,
   "metadata": {},
   "outputs": [
    {
     "name": "stdout",
     "output_type": "stream",
     "text": [
      "x_train shape: (12223, 1, 28, 28)\n",
      "12223 train samples\n",
      "2060 test samples\n"
     ]
    }
   ],
   "source": [
    "#number of classes to predict, 2 or 7\n",
    "num_classes = 2\n",
    "\n",
    "# input image dimensions\n",
    "img_rows, img_cols = 28, 28\n",
    "\n",
    "#set seed for reproducibility / used inside Keras function we can't see\n",
    "seed = 16\n",
    "np.random.seed(seed)\n",
    "\n",
    "# the data, shuffled and split between train and test sets\n",
    "(x_train, y_train), (x_test, y_test) = mnist.load_data()\n",
    "\n",
    "#Only look at 2's and 7's\n",
    "train_picks = np.logical_or(y_train==2,y_train==7)\n",
    "test_picks = np.logical_or(y_test==2,y_test==7)\n",
    "\n",
    "x_train = x_train[train_picks]\n",
    "x_test = x_test[test_picks]\n",
    "y_train = np.array(y_train[train_picks]==7,dtype=int)\n",
    "y_test = np.array(y_test[test_picks]==7,dtype=int)\n",
    "\n",
    "\n",
    "if K.image_data_format() == 'channels_first':\n",
    "    x_train = x_train.reshape(x_train.shape[0], 1, img_rows, img_cols)\n",
    "    x_test = x_test.reshape(x_test.shape[0], 1, img_rows, img_cols)\n",
    "    input_shape = (1, img_rows, img_cols)\n",
    "else:\n",
    "    x_train = x_train.reshape(x_train.shape[0], img_rows, img_cols, 1)\n",
    "    x_test = x_test.reshape(x_test.shape[0], img_rows, img_cols, 1)\n",
    "    input_shape = (img_rows, img_cols, 1)\n",
    "\n",
    "x_train = x_train.astype('float32')\n",
    "x_test = x_test.astype('float32')\n",
    "x_train /= 255\n",
    "x_test /= 255\n",
    "print('x_train shape:', x_train.shape)\n",
    "print(x_train.shape[0], 'train samples')\n",
    "print(x_test.shape[0], 'test samples')\n",
    "\n",
    "# convert class vectors to binary class matrices\n",
    "y_train = keras.utils.to_categorical(y_train, num_classes)\n",
    "y_test = keras.utils.to_categorical(y_test, num_classes)\n",
    "\n",
    "#convert to binary [0,1],[1,0] -> [1],[0]\n",
    "#y_train = np.argmax(y_train,axis=1)\n",
    "#y_test = np.argmax(y_test,axis=1)"
   ]
  },
  {
   "cell_type": "markdown",
   "metadata": {},
   "source": [
    "## Preview images "
   ]
  },
  {
   "cell_type": "code",
   "execution_count": 337,
   "metadata": {},
   "outputs": [
    {
     "data": {
      "image/png": "[encoded data removed]",
      "text/plain": [
       "<matplotlib.figure.Figure at 0x1256e1410>"
      ]
     },
     "metadata": {},
     "output_type": "display_data"
    }
   ],
   "source": [
    "for i in range(0,2):\n",
    "    plt.subplot(1,3,i+1)\n",
    "    plt.imshow(np.squeeze(x_train[i]), cmap='gray')"
   ]
  },
  {
   "cell_type": "markdown",
   "metadata": {},
   "source": [
    "## Define model"
   ]
  },
  {
   "cell_type": "code",
   "execution_count": 19,
   "metadata": {
    "collapsed": true
   },
   "outputs": [],
   "source": [
    "#build Keras model\n",
    "def create_model():\n",
    "    #create model\n",
    "    model = Sequential()\n",
    "    model.add(Conv2D(4, kernel_size=(3, 3),activation='relu',input_shape=input_shape))\n",
    "    model.add(Conv2D(8, (3, 3), activation='relu'))\n",
    "    model.add(MaxPooling2D(pool_size=(2, 2)))\n",
    "    model.add(Dropout(0.25))\n",
    "    model.add(Flatten())\n",
    "    model.add(Dense(16, activation='relu'))\n",
    "    model.add(Dropout(0.5))\n",
    "    model.add(Dense(2, activation='softmax'))\n",
    "\n",
    "    model.compile(loss=keras.losses.categorical_crossentropy,\n",
    "              optimizer=keras.optimizers.Adadelta(),\n",
    "              metrics=['accuracy'])\n",
    "    \n",
    "    return model \n",
    "\n",
    "#instantiate Keras model\n",
    "model = KerasClassifier(build_fn=create_model)"
   ]
  },
  {
   "cell_type": "markdown",
   "metadata": {},
   "source": [
    "## Fit default model and print score"
   ]
  },
  {
   "cell_type": "code",
   "execution_count": 21,
   "metadata": {
    "scrolled": true
   },
   "outputs": [
    {
     "name": "stdout",
     "output_type": "stream",
     "text": [
      "1920/2060 [==========================>...] - ETA: 0s"
     ]
    },
    {
     "data": {
      "text/plain": [
       "0.99077669902912624"
      ]
     },
     "execution_count": 21,
     "metadata": {},
     "output_type": "execute_result"
    }
   ],
   "source": [
    "model.fit(x_train, y_train,\n",
    "          batch_size=batch_size,\n",
    "          epochs=epochs,\n",
    "          verbose=1,\n",
    "          validation_data=(x_test, y_test))\n",
    "score = model.evaluate(x_test, y_test, verbose=0)\n",
    "print('Test loss:', score[0])\n",
    "print('Test accuracy:', score[1])"
   ]
  },
  {
   "cell_type": "markdown",
   "metadata": {},
   "source": [
    "# ------------------------------------------------------------------------------\n",
    "# Next we implement GridSearchCV and RandomizedSearchCV to tune parameters.  Either one can be used or both can be run to see the comparisons in performance"
   ]
  },
  {
   "cell_type": "markdown",
   "metadata": {},
   "source": [
    "## Parameters to tune"
   ]
  },
  {
   "cell_type": "code",
   "execution_count": 18,
   "metadata": {
    "collapsed": true
   },
   "outputs": [],
   "source": [
    "#size of data to grab at a time\n",
    "batch_size = 128\n",
    "#loops on dataset\n",
    "epochs = 12\n",
    "#optimizers\n",
    "#optimizer = ['SGD', 'RMSprop', 'Adagrad', 'Adadelta', 'Adam', 'Adamax', 'Nadam']\n",
    "#learning rate\n",
    "#learn_rate = [0.002,0.01,0.1],\n",
    "#activation for first layer\n",
    "#activation = ['softmax', 'softplus', 'softsign', 'relu', 'tanh', 'sigmoid', 'hard_sigmoid', 'linear']\n",
    "#initializer \n",
    "#init_mode = ['uniform', 'lecun_uniform', 'normal', 'zero', 'glorot_normal', 'glorot_uniform', 'he_normal', 'he_uniform']\n",
    "#weight\n",
    "#weight_constraint = [1, 3, 5]\n",
    "#dropout percent\n",
    "#dropout_rate = [0.25,0.5,0.9]\n",
    "#neurons = [25,30,75,125]\n",
    "\n",
    "##create dict of params for tuning\n",
    "param_grid = dict(batch_size=batch_size, epochs=epochs)"
   ]
  },
  {
   "cell_type": "markdown",
   "metadata": {},
   "source": [
    "## GridSearchCV"
   ]
  },
  {
   "cell_type": "code",
   "execution_count": null,
   "metadata": {
    "collapsed": true
   },
   "outputs": [],
   "source": [
    "#instatiate and test GridSearchCV \n",
    "grid_search = GridSearchCV(model,param_grid=param_grid, n_jobs=-1, verbose=1)\n",
    "\n",
    "#fit GridSearchCV model\n",
    "grid = grid_search.fit(x_train,y_train)\n",
    "\n",
    "#best score\n",
    "best_score = grid.best_score_\n",
    "#best params\n",
    "best_params = grid.best_params_\n",
    "\n",
    "#print out results\n",
    "print ('GridSearch Score = ' , best_score)\n",
    "print ('GridSearch Best Parameters = ' , best_params)"
   ]
  },
  {
   "cell_type": "markdown",
   "metadata": {},
   "source": [
    "## RandomizedSearchCV"
   ]
  },
  {
   "cell_type": "code",
   "execution_count": null,
   "metadata": {
    "collapsed": true,
    "scrolled": false
   },
   "outputs": [],
   "source": [
    "#n_iter must be no higher than the numner of parameters to check\n",
    "n_iter = 5\n",
    "\n",
    "#instatiate and test RandomizedSearch for time and score against GridSearchCV\n",
    "rand_search = RandomizedSearchCV(model,param_distributions=param_grid, n_iter=n_iter, verbose=1)\n",
    "\n",
    "#fit RandomizedSearchCV model\n",
    "rand = rand_search.fit(x_train,y_train)\n",
    "\n",
    "#best score\n",
    "best_score = rand.best_score_\n",
    "#best params\n",
    "best_params = rand.best_params_\n",
    "\n",
    "#print out results\n",
    "print ('Randomized Score = ' , best_score)\n",
    "print ('Randomized Best Parameters = ' , best_params)"
   ]
  },
  {
   "cell_type": "markdown",
   "metadata": {},
   "source": [
    "# ------------------------------------------------------------------------------\n",
    "# Now we initialize the best parameters when we build the Keras model"
   ]
  },
  {
   "cell_type": "markdown",
   "metadata": {},
   "source": [
    "## Now that we have our parameters tuned and initialized in our Keras model we can see its performance"
   ]
  },
  {
   "cell_type": "code",
   "execution_count": 20,
   "metadata": {},
   "outputs": [
    {
     "name": "stdout",
     "output_type": "stream",
     "text": [
      "Train on 12223 samples, validate on 2060 samples\n",
      "Epoch 1/12\n",
      "12223/12223 [==============================] - 4s - loss: 0.0932 - acc: 0.9728 - val_loss: 0.0503 - val_acc: 0.9835\n",
      "Epoch 2/12\n",
      "12223/12223 [==============================] - 4s - loss: 0.0342 - acc: 0.9889 - val_loss: 0.0373 - val_acc: 0.9859\n",
      "Epoch 3/12\n",
      "12223/12223 [==============================] - 4s - loss: 0.0256 - acc: 0.9927 - val_loss: 0.0298 - val_acc: 0.9903\n",
      "Epoch 4/12\n",
      "12223/12223 [==============================] - 4s - loss: 0.0235 - acc: 0.9927 - val_loss: 0.0246 - val_acc: 0.9913\n",
      "Epoch 5/12\n",
      "12223/12223 [==============================] - 4s - loss: 0.0202 - acc: 0.9938 - val_loss: 0.0224 - val_acc: 0.9927\n",
      "Epoch 6/12\n",
      "12223/12223 [==============================] - 4s - loss: 0.0180 - acc: 0.9947 - val_loss: 0.0219 - val_acc: 0.9922\n",
      "Epoch 7/12\n",
      "12223/12223 [==============================] - 4s - loss: 0.0173 - acc: 0.9946 - val_loss: 0.0235 - val_acc: 0.9932\n",
      "Epoch 8/12\n",
      "12223/12223 [==============================] - 4s - loss: 0.0163 - acc: 0.9947 - val_loss: 0.0242 - val_acc: 0.9917\n",
      "Epoch 9/12\n",
      "12223/12223 [==============================] - 4s - loss: 0.0155 - acc: 0.9957 - val_loss: 0.0193 - val_acc: 0.9927\n",
      "Epoch 10/12\n",
      "12223/12223 [==============================] - 4s - loss: 0.0154 - acc: 0.9948 - val_loss: 0.0177 - val_acc: 0.9927\n",
      "Epoch 11/12\n",
      "12223/12223 [==============================] - 4s - loss: 0.0142 - acc: 0.9959 - val_loss: 0.0185 - val_acc: 0.9942\n",
      "Epoch 12/12\n",
      "12223/12223 [==============================] - 4s - loss: 0.0125 - acc: 0.9957 - val_loss: 0.0311 - val_acc: 0.9908\n"
     ]
    }
   ],
   "source": [
    "history = model.fit(x_train, y_train,\n",
    "          batch_size=batch_size,\n",
    "          epochs=epochs,\n",
    "          verbose=1,\n",
    "          validation_data=(x_test, y_test))"
   ]
  },
  {
   "cell_type": "markdown",
   "metadata": {},
   "source": [
    "  "
   ]
  },
  {
   "cell_type": "markdown",
   "metadata": {},
   "source": [
    "<h1><font color='red'>==========================================================================</font></h1>\n",
    "\n",
    "#                                      Visualizing model and training data "
   ]
  },
  {
   "cell_type": "markdown",
   "metadata": {},
   "source": [
    "  "
   ]
  },
  {
   "cell_type": "markdown",
   "metadata": {},
   "source": [
    "## Plotting model Accuracy and Accuracy Loss "
   ]
  },
  {
   "cell_type": "code",
   "execution_count": 333,
   "metadata": {},
   "outputs": [
    {
     "data": {
      "image/png": "[encoded data removed]",
      "text/plain": [
       "<matplotlib.figure.Figure at 0x12512a210>"
      ]
     },
     "metadata": {},
     "output_type": "display_data"
    }
   ],
   "source": [
    "#custom line colors\n",
    "color_acc = '#FC07EE'\n",
    "color_acc2 = '#9C1794'\n",
    "color_val = '#03DFDB'\n",
    "color_val2 = '#0497DC'\n",
    "x = np.arange(0, 12, 1)\n",
    "y1 = history.history['acc']\n",
    "y2 = history.history['val_acc']\n",
    "y3 = history.history['loss']\n",
    "y4 = history.history['val_loss']\n",
    "\n",
    "fig, ax1 = plt.subplots()\n",
    "\n",
    "ax2 = ax1.twinx()\n",
    "ax1.plot(x, y1, color_acc)\n",
    "ax1.plot(x, y2, color_acc2)\n",
    "ax2.plot(x, y3, color_val)\n",
    "ax2.plot(x, y4, color_val2)\n",
    "\n",
    "ax1.set_xlabel('epochs')\n",
    "ax1.set_ylabel('accuracy', color='m')\n",
    "ax2.set_ylabel('loss', color='b')\n",
    "\n",
    "ax1.tick_params(colors='m')\n",
    "ax2.tick_params(colors='b')\n",
    "ax1.grid(False)\n",
    "ax2.grid(False)\n",
    "\n",
    "plt.title('Accuracy and Loss')\n",
    "plt.legend(['train_loss', 'test_loss'], loc='upper left')\n",
    "plt.legend(['train_acc', 'test_acc'], loc='lower left')\n",
    "fig.tight_layout()\n",
    "plt.show()"
   ]
  },
  {
   "cell_type": "markdown",
   "metadata": {},
   "source": [
    "## Plotting the weights of each Convolutional layer"
   ]
  },
  {
   "cell_type": "code",
   "execution_count": 191,
   "metadata": {},
   "outputs": [
    {
     "name": "stdout",
     "output_type": "stream",
     "text": [
      "\u001b[1m1st Convolutional Layer\n"
     ]
    },
    {
     "data": {
      "image/png": "[encoded data removed]",
      "text/plain": [
       "<matplotlib.figure.Figure at 0x118c68a90>"
      ]
     },
     "metadata": {},
     "output_type": "display_data"
    }
   ],
   "source": [
    "weight = model.model.layers[0].get_weights()[0][:,:,0,:]\n",
    "plt.figure(1, figsize=(25,15))\n",
    "\n",
    "for i in range(0,4):\n",
    "    plt.subplot(1,4,i+1)\n",
    "    plt.title('Filter #' + str(i+1))\n",
    "    plt.imshow(weight[:,:,i],interpolation=\"nearest\",cmap=\"gray\")\n",
    "\n",
    "print('\\033[1m' + '1st Convolutional Layer')\n",
    "plt.show()"
   ]
  },
  {
   "cell_type": "code",
   "execution_count": 173,
   "metadata": {},
   "outputs": [
    {
     "name": "stdout",
     "output_type": "stream",
     "text": [
      "\u001b[1m2nd Convolutional Layer\n"
     ]
    },
    {
     "data": {
      "image/png": "[encoded data removed]",
      "text/plain": [
       "<matplotlib.figure.Figure at 0x119a5b390>"
      ]
     },
     "metadata": {},
     "output_type": "display_data"
    }
   ],
   "source": [
    "weight = model.model.layers[1].get_weights()[0][:,:,0,:]\n",
    "plt.figure(1, figsize=(25,15))\n",
    "\n",
    "for i in range(0,8):\n",
    "    plt.subplot(1,8,i+1)\n",
    "    plt.title('Filter #' + str(i+1))\n",
    "    plt.imshow(weight[:,:,i],interpolation=\"nearest\",cmap=\"gray\")\n",
    "\n",
    "print('\\033[1m' + '2nd Convolutional Layer')\n",
    "plt.show()"
   ]
  },
  {
   "cell_type": "markdown",
   "metadata": {},
   "source": [
    "# View the heatmap average of all images that were trained"
   ]
  },
  {
   "cell_type": "code",
   "execution_count": 312,
   "metadata": {
    "scrolled": true
   },
   "outputs": [
    {
     "data": {
      "text/plain": [
       "<matplotlib.image.AxesImage at 0x118a6a110>"
      ]
     },
     "execution_count": 312,
     "metadata": {},
     "output_type": "execute_result"
    },
    {
     "data": {
      "image/png": "[encoded data removed]",
      "text/plain": [
       "<matplotlib.figure.Figure at 0x1217ac610>"
      ]
     },
     "metadata": {},
     "output_type": "display_data"
    }
   ],
   "source": [
    "#get the average image of all of x_train samples\n",
    "x_mean = np.mean(x_train,axis=0)\n",
    "\n",
    "#print out shape of x_mean\n",
    "x_mean.shape\n",
    "\n",
    "#reshape x_mean for plotting\n",
    "x_mean = np.reshape(x_mean,(28,28,1))\n",
    "\n",
    "#plot x_mean\n",
    "plt.imshow(x_mean[:,:,0],cmap='hot')"
   ]
  }
 ],
 "metadata": {
  "kernelspec": {
   "display_name": "Python 2",
   "language": "python",
   "name": "python2"
  },
  "language_info": {
   "codemirror_mode": {
    "name": "ipython",
    "version": 2
   },
   "file_extension": ".py",
   "mimetype": "text/x-python",
   "name": "python",
   "nbconvert_exporter": "python",
   "pygments_lexer": "ipython2",
   "version": "2.7.13"
  }
 },
 "nbformat": 4,
 "nbformat_minor": 2
}
